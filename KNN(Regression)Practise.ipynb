{
 "cells": [
  {
   "cell_type": "code",
   "execution_count": 2,
   "id": "3690fcaa",
   "metadata": {},
   "outputs": [],
   "source": [
    "import pandas as pd\n",
    "import numpy as np\n",
    "import matplotlib.pyplot as plt"
   ]
  },
  {
   "cell_type": "code",
   "execution_count": 3,
   "id": "69bd8fc4",
   "metadata": {},
   "outputs": [
    {
     "name": "stdout",
     "output_type": "stream",
     "text": [
      "      ID  Height(Inches)  Weight(Pounds)\n",
      "0      1        65.78331        112.9925\n",
      "1      2        71.51521        136.4873\n",
      "2      3        69.39874        153.0269\n",
      "3      4        68.21660        142.3354\n",
      "4      5        67.78781        144.2971\n",
      "..   ...             ...             ...\n",
      "793  794        67.92214        139.4335\n",
      "794  795        68.01143        141.3353\n",
      "795  796        67.76524        119.7870\n",
      "796  797        69.19791        136.3260\n",
      "797  798        67.00109        118.4090\n",
      "\n",
      "[798 rows x 3 columns]\n"
     ]
    }
   ],
   "source": [
    "df = pd.read_csv(r'C:\\Users\\Pavan\\Desktop\\Data Science Material\\DataScience Backup\\ML FINAL\\KNN\\train.csv')\n",
    "print(df)"
   ]
  },
  {
   "cell_type": "code",
   "execution_count": 4,
   "id": "394e63db",
   "metadata": {},
   "outputs": [
    {
     "name": "stdout",
     "output_type": "stream",
     "text": [
      "     Height(Inches)\n",
      "0          65.78331\n",
      "1          71.51521\n",
      "2          69.39874\n",
      "3          68.21660\n",
      "4          67.78781\n",
      "..              ...\n",
      "793        67.92214\n",
      "794        68.01143\n",
      "795        67.76524\n",
      "796        69.19791\n",
      "797        67.00109\n",
      "\n",
      "[798 rows x 1 columns]\n"
     ]
    }
   ],
   "source": [
    "X = df.iloc[:,1:2]\n",
    "print(X)"
   ]
  },
  {
   "cell_type": "code",
   "execution_count": 5,
   "id": "c60e7ee3",
   "metadata": {},
   "outputs": [
    {
     "name": "stdout",
     "output_type": "stream",
     "text": [
      "     Weight(Pounds)\n",
      "0          112.9925\n",
      "1          136.4873\n",
      "2          153.0269\n",
      "3          142.3354\n",
      "4          144.2971\n",
      "..              ...\n",
      "793        139.4335\n",
      "794        141.3353\n",
      "795        119.7870\n",
      "796        136.3260\n",
      "797        118.4090\n",
      "\n",
      "[798 rows x 1 columns]\n"
     ]
    }
   ],
   "source": [
    "y = df.iloc[:,2:]\n",
    "print(y)"
   ]
  },
  {
   "cell_type": "code",
   "execution_count": 6,
   "id": "9825855a",
   "metadata": {},
   "outputs": [],
   "source": [
    "from sklearn.model_selection import train_test_split\n",
    "X_train,X_test,y_train,y_test = train_test_split(X,y,test_size= 0.2,random_state=0)\n"
   ]
  },
  {
   "cell_type": "code",
   "execution_count": 7,
   "id": "7e44bd8c",
   "metadata": {},
   "outputs": [],
   "source": [
    "from sklearn.neighbors import KNeighborsRegressor\n"
   ]
  },
  {
   "cell_type": "code",
   "execution_count": 8,
   "id": "495ad551",
   "metadata": {},
   "outputs": [
    {
     "data": {
      "text/plain": [
       "\"\\nfor K in range(1,50):\\n    knnR = KNeighborsRegressor(n_neighbors = K, metric = 'euclidean')\\n    knnR.fit(X_train,y_train)\\n    y_pred = knnR.predict(X_test rmse = sqrt(mean_squared_error(y_test,y_pred)))\\n   \\n    print('RMSE value for k= ', K, 'is: ' ,rmse)\\n\""
      ]
     },
     "execution_count": 8,
     "metadata": {},
     "output_type": "execute_result"
    }
   ],
   "source": [
    "from math import sqrt\n",
    "from sklearn.metrics import mean_squared_error\n",
    "'''\n",
    "for K in range(1,50):\n",
    "    knnR = KNeighborsRegressor(n_neighbors = K, metric = 'euclidean')\n",
    "    knnR.fit(X_train,y_train)\n",
    "    y_pred = knnR.predict(X_test)\n",
    "    rmse = sqrt(mean_squared_error(y_test,y_pred)))\n",
    "   \n",
    "    print('RMSE value for k= ', K, 'is: ' ,rmse)\n",
    "'''    "
   ]
  },
  {
   "cell_type": "code",
   "execution_count": 9,
   "id": "e2786f07",
   "metadata": {},
   "outputs": [],
   "source": [
    "#knnR = KNeighborsRegressor(n_neighbors=10, metric = 'euclidean')\n",
    "knnR = KNeighborsRegressor(n_neighbors=10, metric = 'manhattan')\n",
    "knnR.fit(X_train,y_train)\n",
    "y_pred = knnR.predict(X_test)"
   ]
  },
  {
   "cell_type": "code",
   "execution_count": 10,
   "id": "97a1321d",
   "metadata": {},
   "outputs": [
    {
     "name": "stdout",
     "output_type": "stream",
     "text": [
      "10.563061791027756\n"
     ]
    }
   ],
   "source": [
    "rmse =sqrt(mean_squared_error(y_test,y_pred))\n",
    "print(rmse)"
   ]
  },
  {
   "cell_type": "code",
   "execution_count": 11,
   "id": "fc2b2946",
   "metadata": {},
   "outputs": [
    {
     "name": "stdout",
     "output_type": "stream",
     "text": [
      "[[132.17144]]\n"
     ]
    },
    {
     "name": "stderr",
     "output_type": "stream",
     "text": [
      "C:\\Users\\Pavan\\anaconda3\\lib\\site-packages\\sklearn\\base.py:450: UserWarning: X does not have valid feature names, but KNeighborsRegressor was fitted with feature names\n",
      "  warnings.warn(\n"
     ]
    }
   ],
   "source": [
    "#let's test the algorithm by giving input values\n",
    "predictValue = knnR.predict([[69.19791]])\n",
    "print(predictValue)"
   ]
  },
  {
   "cell_type": "code",
   "execution_count": null,
   "id": "73208ddf",
   "metadata": {},
   "outputs": [],
   "source": []
  }
 ],
 "metadata": {
  "kernelspec": {
   "display_name": "Python 3 (ipykernel)",
   "language": "python",
   "name": "python3"
  },
  "language_info": {
   "codemirror_mode": {
    "name": "ipython",
    "version": 3
   },
   "file_extension": ".py",
   "mimetype": "text/x-python",
   "name": "python",
   "nbconvert_exporter": "python",
   "pygments_lexer": "ipython3",
   "version": "3.9.13"
  }
 },
 "nbformat": 4,
 "nbformat_minor": 5
}
